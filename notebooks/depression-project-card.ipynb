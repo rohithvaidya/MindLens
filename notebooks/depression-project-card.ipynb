{
 "cells": [
  {
   "cell_type": "raw",
   "metadata": {},
   "source": [
    "---\n",
    "title: Major Project - Project Card\n",
    "author:\n",
    "    - name: Divyam Choudhary\n",
    "      email: divyam.choudhary@iiitb.ac.in\n",
    "      affiliations:\n",
    "        - IIIT-Bangalore\n",
    "    - name: Rohith Vaidyanathan\n",
    "      email: rohith.vaidyanathan@iiitb.ac.in\n",
    "      affiliations:\n",
    "        - IIIT-Bangalore\n",
    "format:\n",
    "    html:\n",
    "        code-fold: true\n",
    "        toc: True\n",
    "execute:\n",
    "    enabled: true\n",
    "    echo: false\n",
    "jupyter: python3\n",
    "---"
   ]
  },
  {
   "cell_type": "markdown",
   "metadata": {
    "tags": [
     "instruction"
    ]
   },
   "source": [
    "# Business View"
   ]
  },
  {
   "cell_type": "markdown",
   "metadata": {},
   "source": [
    "## Background\n",
    "_Provide succinct **background** to the problem so that the reader can empathize with the problem._"
   ]
  },
  {
   "cell_type": "markdown",
   "metadata": {
    "tags": [
     "response"
    ]
   },
   "source": [
    "Mental health disorders, especially depression, are a leading cause of distress worldwide, significantly affecting individuals' productivity, relationships, and quality of life. Despite this, mental health often remains stigmatized, and many individuals fail to seek timely help as the symptoms go unnoticed or considered hoax due to regressive societal and cultural understanding. Modern mental health surveys provide a wealth of data on environmental, psychological, and social factors influencing mental health, presenting an opportunity to identify patterns that could aid in early detection and prevention of depression.\n",
    "\n",
    "For doctors in the frontline, a streamlined screening tool can empower doctors to perform quick assessments and prioritize individuals for further evaluation, bridging the gap between initial consultation and in-depth diagnosis."
   ]
  },
  {
   "cell_type": "markdown",
   "metadata": {
    "tags": [
     "instruction"
    ]
   },
   "source": [
    "## Problem\n",
    "_**What** is the problem being solved?_"
   ]
  },
  {
   "cell_type": "markdown",
   "metadata": {
    "tags": [
     "response"
    ]
   },
   "source": [
    "1. Identifying the underlying factors contributing to depression from survey data is challenging due to the interplay of complex, often subjective variables. Current methods lack personalization and predictive capabilities, limiting their effectiveness in mitigating mental health issues at a societal level.\n",
    "2. Doctors need an efficient, scalable, and reliable screening tool to identify individuals at risk for depression quickly and accurately, especially in resource-constrained settings."
   ]
  },
  {
   "cell_type": "markdown",
   "metadata": {
    "tags": [
     "instruction"
    ]
   },
   "source": [
    "## Customer\n",
    "_**Who** it is for? Is that a _user_ or a _beneficiary_?\n",
    "What is the problem being solved? Who it is for?_"
   ]
  },
  {
   "cell_type": "markdown",
   "metadata": {
    "tags": [
     "response"
    ]
   },
   "source": [
    "- **Primary User**: Healthcare providers, mental health professionals, policymakers, and researchers.\n",
    "- **Beneficiary**: Individuals experiencing or at risk of depression, their families, and organizations aiming to improve employee well-being.\n",
    "- **Problem for Customer**: The users lack actionable insights into factors leading to depression, and beneficiaries suffer from late interventions or undetected conditions. Also, Current screening methods are time-consuming, subjective, and require significant manual effort."
   ]
  },
  {
   "cell_type": "markdown",
   "metadata": {
    "tags": [
     "instruction"
    ]
   },
   "source": [
    "## Value Proposition\n",
    "_Why it needs to be solved?_"
   ]
  },
  {
   "cell_type": "markdown",
   "metadata": {
    "tags": [
     "response"
    ]
   },
   "source": [
    "- Timely identification of at-risk individuals.\n",
    "- Provide doctors with a data-driven screening tool to assist in identifying depression risk during initial consultations.\n",
    "- Reduce doctors' cognitive load and help prioritize at-risk patients for detailed evaluation."
   ]
  },
  {
   "cell_type": "markdown",
   "metadata": {
    "tags": [
     "instruction"
    ]
   },
   "source": [
    "## Product\n",
    "_How does the solution look like? It is more of the experience, rather how it will be developed._"
   ]
  },
  {
   "cell_type": "markdown",
   "metadata": {
    "tags": [
     "response"
    ]
   },
   "source": [
    "A data-driven platform that analyzes mental health survey responses to identify depression risk factors and provide actionable insights.\n",
    "\n",
    "    - Experience: A user-friendly dashboard for healthcare providers, with visual analytics showing key depression predictors, trends, and correlations.\n",
    "    - Features: Early warning indicators, predictive models, anonymized recommendations for interventions, right to forget.\n",
    "    - Integration: API compatibility for mental health organizations and businesses.\n",
    "\n",
    "We are planning a 2-phased release:\n",
    "1. Phase 1: A screening tool for doctors available as a web or mobile app. This tool will provide rapid predictions, confidence scores, and explanations.\n",
    "2. Phase 2: A comprehensive insights platform for healthcare providers and organizations."
   ]
  },
  {
   "cell_type": "markdown",
   "metadata": {
    "tags": [
     "instruction"
    ]
   },
   "source": [
    "## Objectives\n",
    "_Breakdown the product into key (business) objectives that need to be delivered?_\n",
    "[SMART Goals](https://med.stanford.edu/content/dam/sm/s-spire/documents/How-to-write-SMART-Goals-v2.pdf) is useful to frame"
   ]
  },
  {
   "cell_type": "markdown",
   "metadata": {
    "tags": [
     "response"
    ]
   },
   "source": [
    "Phase 1:\n",
    "- Develop a screening tool as a minimum viable product (MVP) within the first 4 months, focusing on doctors’ needs.\n",
    "- Achieve 70% doctor satisfaction in usability and accuracy during the MVP trial phase.\n",
    "- Deploy the tool in 15 clinics or hospitals during Phase 1.\n",
    "\n",
    "Phase 2:\n",
    "- Develop an Insights Platform: Create a user-friendly interface that presents depression risk factors based on mental health survey data.\n",
    "- Enhance Predictive Accuracy: Achieve a model accuracy of at least 85% in identifying at-risk individuals within 6 months.\n",
    "- Engagement: Pilot the platform with at least 3 mental health organizations or businesses within the first year.\n",
    "- Education: Provide reports that raise awareness among 1,000+ users on depression trends in the first year."
   ]
  },
  {
   "cell_type": "markdown",
   "metadata": {
    "tags": [
     "instruction"
    ]
   },
   "source": [
    "## Risks & Challenges\n",
    "_What are the challenges one can face and ways to overcome?_"
   ]
  },
  {
   "cell_type": "markdown",
   "metadata": {
    "tags": [
     "response"
    ]
   },
   "source": [
    "- Data Privacy Concerns:\n",
    "    - Challenge: Mental health data is highly sensitive, requiring strict adherence to data protection laws like GDPR and HIPAA.\n",
    "    - Mitigation: Anonymize data, implement robust encryption, and ensure transparency with users.\n",
    "\n",
    "\n",
    "- Data Quality Issues:\n",
    "    - Challenge: Survey data may be incomplete, biased, or inconsistent.\n",
    "    - Mitigation: Use robust preprocessing techniques, imputation methods, and actively work with data collection teams to improve quality.\n",
    "\n",
    "\n",
    "- Stigma and Resistance to Adoption:\n",
    "    - Challenge: Organizations and individuals may hesitate to participate due to stigma or fear of judgment.\n",
    "    - Mitigation: Position the platform as a tool for awareness and prevention, emphasize its anonymous and ethical use, and provide success stories.\n",
    "\n",
    "\n",
    "- Model Bias and Misclassification:\n",
    "    - Challenge: Predictive models might show bias against certain demographics.\n",
    "    - Mitigation: Regularly audit models for bias, train models with diverse datasets, and employ explainable AI techniques.\n",
    "\n",
    "\n",
    "- Lack of Engagement:\n",
    "    - Challenge: Users may not actively engage with the insights provided.\n",
    "    - Mitigation: Offer gamified elements for awareness campaigns and create partnerships with wellness programs to enhance visibility."
   ]
  },
  {
   "cell_type": "markdown",
   "metadata": {
    "tags": [
     "instruction"
    ]
   },
   "source": [
    "# ML View"
   ]
  },
  {
   "cell_type": "markdown",
   "metadata": {
    "tags": [
     "instruction"
    ]
   },
   "source": [
    "## Task\n",
    "_What type of prediction problem is this? Link [Model Card](https://arxiv.org/abs/1810.03993) when sufficient details become available (start small but early)_"
   ]
  },
  {
   "cell_type": "markdown",
   "metadata": {
    "tags": [
     "response"
    ]
   },
   "source": [
    "This is a binary classification problem where the goal is to predict whether an individual is likely to have depression (Depression column: 1 for \"Yes\" and 0 for \"No\") based on survey responses."
   ]
  },
  {
   "cell_type": "markdown",
   "metadata": {
    "tags": [
     "instruction"
    ]
   },
   "source": [
    "## Metrics\n",
    "_How will the solution be evaluated - What are the ML metrics? What are the business metrics? Link [Model Card](https://arxiv.org/abs/1810.03993) when sufficient details become available (start small but early)_"
   ]
  },
  {
   "cell_type": "markdown",
   "metadata": {
    "tags": [
     "response"
    ]
   },
   "source": [
    "ML Metrics\n",
    "- **Accuracy:** Measure overall correctness of predictions.\n",
    "- **Precision:** Assess false positives, important to avoid over-diagnosis.\n",
    "- **Recall (Sensitivity):** Identify true positives, crucial for capturing at-risk individuals.\n",
    "- **F1-Score:** Balance precision and recall for a comprehensive measure.\n",
    "- **AUC-ROC:** Evaluate model performance across classification thresholds.\n",
    "- **Calibration Metrics:** Ensure model predictions reflect true probabilities.\n",
    "\n",
    "Business Metrics\n",
    "- **Early Identification Rate:** Percentage of individuals correctly flagged as at risk for depression.\n",
    "- **Engagement Rate:** Number of psychologists or organizations actively using the platform.\n",
    "- **Reduction in Late Diagnoses:** Comparative analysis of mental health outcomes pre- and post-platform use.\n",
    "- **Adoption Metrics:** Number of active users and organizations onboarded within the first year."
   ]
  },
  {
   "cell_type": "markdown",
   "metadata": {
    "tags": [
     "instruction"
    ]
   },
   "source": [
    "## Evaluation\n",
    "_How will the solution be evaluated (process)? Link [Model Card](https://arxiv.org/abs/1810.03993) when sufficient details become available (start small but early)_"
   ]
  },
  {
   "cell_type": "markdown",
   "metadata": {
    "tags": [
     "response"
    ]
   },
   "source": [
    "- **Cross-Validation:** 10-fold cross-validation to assess model stability and robustness.\n",
    "- **Explainability Evaluation:** Validate SHAP, LIME, or similar tools for feature importance visualization.\n",
    "- **Robustness Testing:** Stress-test models against outliers, missing values, and noisy data.\n",
    "- **Post-Deployment Monitoring:** Monitor drift in predictions and retrain models periodically.\n",
    "- **Instance-Level Assessments:** Use conformal predictions to generate confidence intervals for individual predictions, along with trust scores and explanations for actionable insights."
   ]
  },
  {
   "cell_type": "markdown",
   "metadata": {
    "tags": [
     "instruction"
    ]
   },
   "source": [
    "## Data\n",
    "_What type of data is needed? How will it be collected - for training and for continuous improvement? Link  [Data Cards](https://arxiv.org/abs/2204.01075) when sufficient details become available (start small but early)_"
   ]
  },
  {
   "cell_type": "markdown",
   "metadata": {
    "tags": [
     "response"
    ]
   },
   "source": [
    "Data Characteristics:\n",
    "\n",
    "    - Training Data: Current survey dataset with 141k instances.\n",
    "    - Features: Demographics, mental health habits, work/study pressures, and family history.\n",
    "    - Annotations: Labels provided by psychologists for depression diagnosis.\n",
    "\n",
    "Collection for Continuous Improvement:\n",
    "\n",
    "    - Use a feedback loop for psychologists and organizations to validate predictions and gather real-world outcomes.\n",
    "    - Collect additional survey data periodically to account for evolving societal factors.\n",
    "    - Anonymize and securely store data to comply with privacy regulations."
   ]
  },
  {
   "cell_type": "markdown",
   "metadata": {
    "tags": [
     "instruction"
    ]
   },
   "source": [
    "## Plan/ Roadmap\n",
    "_Provide problem break-up, tentative timelines and deliverables? Use [PACT](https://nesslabs.com/smart-goals-pact) format if SMART is not suitable._"
   ]
  },
  {
   "cell_type": "markdown",
   "metadata": {
    "tags": [
     "response"
    ]
   },
   "source": [
    "Plan/Roadmap\n",
    "\n",
    "Problem Break-Up & Timelines (PACT Format):\n",
    "\n",
    "    - Prepare (Month 1-2):\n",
    "        - Data cleaning, handling missing values, and exploratory analysis.\n",
    "        - Split data into training, validation, and test sets.\n",
    "        - Identify baseline model (e.g., Logistic Regression, Random Forest).\n",
    "\n",
    "    - Analyze (Month 3-4):\n",
    "        - Engineer features and assess feature importance.\n",
    "        - Train interpretable models (e.g., Decision Trees, Explainable Boosting Machine).\n",
    "        - Evaluate baseline models on core ML metrics.\n",
    "\n",
    "    - Construct (Month 5-6):\n",
    "        - Implement advanced models (e.g., Gradient Boosted Trees, Calibrated Neural Networks).\n",
    "        - Add calibration, conformal prediction, and explainability modules.\n",
    "        - Ensure robustness through adversarial testing and stress testing.\n",
    "\n",
    "    - Tune (Month 7-8):\n",
    "        - Optimize hyperparameters and select final models.\n",
    "        - Pilot system with stakeholders for feedback.\n",
    "\n",
    "    - Deliver (Month 9):\n",
    "        - Deploy model as a dashboard or API.\n",
    "        - Provide model documentation, explanations, and trust scores."
   ]
  },
  {
   "cell_type": "markdown",
   "metadata": {
    "tags": [
     "instruction"
    ]
   },
   "source": [
    "## Continuous Improvement\n",
    "_How will the system/model will improve? Provide a plan and means._"
   ]
  },
  {
   "cell_type": "markdown",
   "metadata": {
    "tags": [
     "response"
    ]
   },
   "source": [
    "- **Active Learning:** Use uncertain predictions to request feedback from psychologists for improved labeling.\n",
    "- **Data Drift Monitoring:** Regularly monitor features and predictions for drift using statistical tests.\n",
    "- **Periodic Retraining:** Schedule retraining every 6 months or when significant drift is detected.\n",
    "- **Feedback Loop:** Incorporate feedback from users on false positives/negatives to refine models.\n",
    "- **Explainability & Trust Improvements:** Enhance interpretability methods with user feedback."
   ]
  },
  {
   "cell_type": "markdown",
   "metadata": {
    "tags": [
     "instruction"
    ]
   },
   "source": [
    "\n",
    "### Human Resources\n",
    "_what type of team and strength needed?_"
   ]
  },
  {
   "cell_type": "markdown",
   "metadata": {
    "tags": [
     "response"
    ]
   },
   "source": [
    "- Data Scientist(s): 2-3 for preprocessing, feature engineering, and model development.\n",
    "- ML Engineer(s): 1-2 engineers, focusing on optimizing models for lightweight deployment in web and mobile applications.\n",
    "- UI/UX Designer: 1 expert to ensure the app meets healthcare usability standards.\n",
    "- Full Stack Developer: 1 expert to build the CI/CD pipeline and integrate with ML products."
   ]
  },
  {
   "cell_type": "markdown",
   "metadata": {
    "tags": [
     "instruction"
    ]
   },
   "source": [
    "### Compute Resources\n",
    "_What type of compute resources needed to train and serve?_"
   ]
  },
  {
   "cell_type": "markdown",
   "metadata": {
    "tags": [
     "response"
    ]
   },
   "source": [
    "- Training Phase: Standard cloud VMs (e.g., AWS EC2 c5.large or equivalent) or a mid-range GPU (e.g., NVIDIA GTX 1660 or higher) can handle training needs efficiently. No need for high-end GPUs like TPUs unless scaling or retraining on larger datasets.\n",
    "- Deployment Phase:\n",
    "    - Web App: Lightweight backend compute (e.g., AWS Lambda or EC2 t2.micro) with REST API endpoints.\n",
    "    - Mobile App: On-device inference using TensorFlow Lite or ONNX for a small, optimized model (~1MB).\n",
    "    - Storage for data and model: ~100GB cloud storage for scalability.\n",
    "\n",
    "- Cost Estimate:\n",
    "    - Human Resources: $210,000/year (slight increase due to additional UI/UX requirements).\n",
    "    - Compute Resources: $3,000/year for basic cloud infrastructure for deployment.\n",
    "    - Miscellaneous: $1,000 for mobile app-specific tools (e.g., testing platforms, app store fees)."
   ]
  },
  {
   "cell_type": "code",
   "execution_count": 1,
   "metadata": {},
   "outputs": [],
   "source": []
  }
 ],
 "metadata": {
  "kernelspec": {
   "display_name": "Python 3 (ipykernel)",
   "language": "python",
   "name": "python3"
  },
  "language_info": {
   "codemirror_mode": {
    "name": "ipython",
    "version": 3
   },
   "file_extension": ".py",
   "mimetype": "text/x-python",
   "name": "python",
   "nbconvert_exporter": "python",
   "pygments_lexer": "ipython3",
   "version": "3.10.6"
  }
 },
 "nbformat": 4,
 "nbformat_minor": 4
}
